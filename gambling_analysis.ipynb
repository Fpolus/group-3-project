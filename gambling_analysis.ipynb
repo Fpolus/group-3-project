{
 "cells": [
  {
   "cell_type": "code",
   "execution_count": null,
   "id": "9fbd5e91",
   "metadata": {},
   "outputs": [],
   "source": [
    "# Import Dependencies\n",
    "import pandas as pd\n",
    "import numpy as np\n",
    "\n",
    "import matplotlib.pyplot as plt\n",
    "\n",
    "import plotly.express as px\n",
    "import plotly.graph_objects as go"
   ]
  },
  {
   "cell_type": "code",
   "execution_count": null,
   "id": "eae22aff",
   "metadata": {},
   "outputs": [],
   "source": [
    "# Read in the CSV files from previous script\n",
    "record_df = pd.read_csv(\"resources/record.csv\")\n",
    "ats_df = pd.read_csv(\"resources/ats.csv\")\n",
    "ou_df = pd.read_csv(\"resources/ou.csv\")"
   ]
  },
  {
   "cell_type": "code",
   "execution_count": null,
   "id": "e510d280",
   "metadata": {},
   "outputs": [],
   "source": [
    "# Create a unique identifier to combine team and year\n",
    "record_df['UID'] = record_df['Year'].astype(str) + record_df['Team'].astype(str)\n",
    "ats_df['UID'] = ats_df['Year'].astype(str) + ats_df['Team'].astype(str)\n",
    "ou_df['UID'] = ou_df['Year'].astype(str) + ou_df['Team'].astype(str)\n",
    "\n",
    "# Merge the DataFrames into a larger dataset\n",
    "df1 = pd.merge(record_df, ats_df, on='UID')\n",
    "gambling_df = pd.merge(df1, ou_df, on='UID')\n",
    "\n",
    "# Drop repeat columns\n",
    "columns_to_drop = ['Team_x', 'MOV_x', 'ATS_x', 'Year_x', 'UID',\n",
    "       'Team_y', 'MOV_y', 'ATS_y', 'Year_y']\n",
    "\n",
    "gambling_df.drop(columns_to_drop, axis=1, inplace=True)\n",
    "\n",
    "# Preview the Dataset\n",
    "gambling_df.head(5)"
   ]
  },
  {
   "cell_type": "code",
   "execution_count": null,
   "id": "50c61aff",
   "metadata": {},
   "outputs": [],
   "source": [
    "# Reorder the columns\n",
    "gambling_df = gambling_df[['Team', 'Year', \n",
    "                           'Win-Loss Record', 'Win %', \n",
    "                           'ATS Record', 'Cover %', \n",
    "                           'Over Record', 'Over %', 'Under %', 'Total']]"
   ]
  },
  {
   "cell_type": "code",
   "execution_count": null,
   "id": "eeab0e0e",
   "metadata": {},
   "outputs": [],
   "source": [
    "# Investigate the dtypes\n",
    "gambling_df.dtypes"
   ]
  },
  {
   "cell_type": "code",
   "execution_count": null,
   "id": "44b24145",
   "metadata": {},
   "outputs": [],
   "source": [
    "# Change year to datetime\n",
    "gambling_df['Year'] = gambling_df['Year'].astype(str)"
   ]
  },
  {
   "cell_type": "code",
   "execution_count": null,
   "id": "832e0252",
   "metadata": {},
   "outputs": [],
   "source": [
    "# Change the numbers to floating points\n",
    "columns = ['Win %', 'Cover %', 'Over %', 'Under %']\n",
    "\n",
    "for column in columns:\n",
    "    gambling_df[column] = gambling_df[column].str.replace('%', '')\n",
    "    gambling_df[column] = pd.to_numeric(gambling_df[column], errors='coerce')"
   ]
  },
  {
   "cell_type": "code",
   "execution_count": null,
   "id": "d9c2ce5d",
   "metadata": {},
   "outputs": [],
   "source": [
    "# Split the record columns into individual columns and convert to integers\n",
    "gambling_df[['Record Wins', 'Record Losses', 'Record Tie']] = gambling_df['Win-Loss Record'].str.split('-', expand=True)\n",
    "gambling_df[['ATS Wins', 'ATS Losses', 'ATS Tie']] = gambling_df['ATS Record'].str.split('-', expand=True)\n",
    "gambling_df[['OU Wins', 'OU Losses', 'OU Tie']] = gambling_df['Over Record'].str.split('-', expand=True)\n",
    "\n",
    "# Convert all of these columns to integers\n",
    "columns = ['Record Wins', 'Record Losses', 'Record Tie', 'ATS Wins', 'ATS Losses', 'ATS Tie', 'OU Wins', 'OU Losses', 'OU Tie']\n",
    "\n",
    "for column in columns:\n",
    "    gambling_df[column] = gambling_df[column].astype(int)"
   ]
  },
  {
   "cell_type": "code",
   "execution_count": null,
   "id": "7edaba6a",
   "metadata": {},
   "outputs": [],
   "source": [
    "# Confirm the data cleaning operations were successful\n",
    "gambling_df.dtypes"
   ]
  },
  {
   "cell_type": "code",
   "execution_count": null,
   "id": "40d57cf7",
   "metadata": {},
   "outputs": [],
   "source": [
    "# Preview the cleaned dataset\n",
    "gambling_df.head(5)"
   ]
  },
  {
   "cell_type": "code",
   "execution_count": null,
   "id": "1e062dd4",
   "metadata": {},
   "outputs": [],
   "source": [
    "# Group the teams together\n",
    "grouped_team = gambling_df.groupby('Team').agg({\n",
    "    'Win %': 'mean', 'Cover %': 'mean', 'Over %': 'mean', 'Under %': 'mean', 'Total': 'mean', \n",
    "    'Record Wins': 'sum', 'Record Losses': 'sum', 'Record Tie': 'sum',\n",
    "    'ATS Wins': 'sum', 'ATS Losses': 'sum', 'ATS Tie': 'sum',\n",
    "    'OU Wins': 'sum', 'OU Losses': 'sum', 'OU Tie': 'sum',\n",
    "}).round(2)\n",
    "\n",
    "grouped_team"
   ]
  },
  {
   "cell_type": "code",
   "execution_count": null,
   "id": "3758938d",
   "metadata": {},
   "outputs": [],
   "source": [
    "# User inputs\n",
    "team = input(f'Enter Team Name (ex: Denver, Green Bay, NY Giants): ')\n",
    "year_i = int(input(f'Starting Year: '))\n",
    "year_f = int(input(f'Ending Year: '))   \n",
    "\n",
    "# Convert the Year column to an integer\n",
    "gambling_df['Year'] = gambling_df['Year'].astype(int)\n",
    "\n",
    "# Filter the DataFrame based on the user inputs\n",
    "if year_i == year_f:\n",
    "    single_year = True\n",
    "    result_df = gambling_df.query(f'Team == \"{team}\" and Year == {year_i}')\n",
    "    result_df.set_index('Year', inplace = True)\n",
    "    \n",
    "else:\n",
    "    single_year = False\n",
    "    result_df = gambling_df.query(f'Team == \"{team}\" and Year >= {year_i} and Year <= {year_f}')\n",
    "    result_df.set_index('Year', inplace = True)"
   ]
  },
  {
   "cell_type": "code",
   "execution_count": null,
   "id": "058ee9d3",
   "metadata": {},
   "outputs": [],
   "source": [
    "# Plot the bar chart for Win % vs Cover %\n",
    "fig = px.bar(result_df, x=result_df.index, y=['Win %', 'Cover %'], \n",
    "             title=f'{team} Gambling Metrics', barmode='group')\n",
    "\n",
    "fig.update_xaxes(title='Year')\n",
    "fig.update_yaxes(title='Win Percentage')\n",
    "fig.show()"
   ]
  },
  {
   "cell_type": "code",
   "execution_count": null,
   "id": "097640e7",
   "metadata": {},
   "outputs": [],
   "source": [
    "####### Generate the graphs for Cover % vs Win %\n",
    "\n",
    "# Calculate the linear regression data series\n",
    "x_data = result_df['Win %']\n",
    "y_data = result_df['Cover %']\n",
    "\n",
    "# Calculate the linear regression coefficients\n",
    "slope, intercept = np.polyfit(x_data, y_data, 1)\n",
    "\n",
    "# Calculate the R-squared value\n",
    "predicted_y = slope * np.array(x_data) + intercept\n",
    "residuals = np.array(y_data) - predicted_y\n",
    "ss_residual = np.sum(residuals**2)\n",
    "ss_total = np.sum((y_data - np.mean(y_data))**2)\n",
    "r_squared = 1 - (ss_residual / ss_total)\n",
    "\n",
    "# Create a scatter plot\n",
    "fig = px.scatter(x=x_data, y=y_data, title=f'{team} Gambling Metrics: Cover % vs Win %')\n",
    "\n",
    "# Create a trace for the regression line\n",
    "regression_line = go.Scatter(x=x_data, y=slope * np.array(x_data) + intercept, mode='lines', name='Linear Regression')\n",
    "\n",
    "# Add the trace to the scatter plot\n",
    "fig.add_trace(regression_line)\n",
    "\n",
    "# Annotate the plot with the R-squared value\n",
    "annotation = go.layout.Annotation(\n",
    "    text=f'R² = {r_squared:.3f}',\n",
    "    xref='paper', yref='paper',\n",
    "    x=0.05, y=0.95,\n",
    "    showarrow=False,\n",
    "    font=dict(size=12)\n",
    ")\n",
    "\n",
    "# Add the annotation to the layout\n",
    "fig.update_layout(annotations=[annotation])\n",
    "fig.update_xaxes(title='Win %')\n",
    "fig.update_yaxes(title='Cover %')\n",
    "\n",
    "# Show the plot\n",
    "fig.show()"
   ]
  },
  {
   "cell_type": "code",
   "execution_count": null,
   "id": "7aaf67c3",
   "metadata": {},
   "outputs": [],
   "source": [
    "####### Generate the graphs for Over % vs Win %\n",
    "\n",
    "# Calculate the linear regression data series\n",
    "x_data = result_df['Win %']\n",
    "y_data = result_df['Over %']\n",
    "\n",
    "# Calculate the linear regression coefficients\n",
    "slope, intercept = np.polyfit(x_data, y_data, 1)\n",
    "\n",
    "# Calculate the R-squared value\n",
    "predicted_y = slope * np.array(x_data) + intercept\n",
    "residuals = np.array(y_data) - predicted_y\n",
    "ss_residual = np.sum(residuals**2)\n",
    "ss_total = np.sum((y_data - np.mean(y_data))**2)\n",
    "r_squared = 1 - (ss_residual / ss_total)\n",
    "\n",
    "# Create a scatter plot\n",
    "fig = px.scatter(x=x_data, y=y_data, title=f'{team} Gambling Metrics: Over % vs Win %')\n",
    "\n",
    "# Create a trace for the regression line\n",
    "regression_line = go.Scatter(x=x_data, y=slope * np.array(x_data) + intercept, mode='lines', name='Linear Regression')\n",
    "\n",
    "# Add the trace to the scatter plot\n",
    "fig.add_trace(regression_line)\n",
    "\n",
    "# Annotate the plot with the R-squared value\n",
    "annotation = go.layout.Annotation(\n",
    "    text=f'R² = {r_squared:.3f}',\n",
    "    xref='paper', yref='paper',\n",
    "    x=0.05, y=0.95,\n",
    "    showarrow=False,\n",
    "    font=dict(size=12)\n",
    ")\n",
    "\n",
    "# Add the annotation to the layout\n",
    "fig.update_layout(annotations=[annotation])\n",
    "fig.update_xaxes(title='Win %')\n",
    "fig.update_yaxes(title='Over %')\n",
    "\n",
    "# Show the plot\n",
    "fig.show()"
   ]
  },
  {
   "cell_type": "code",
   "execution_count": null,
   "id": "6a4d72f5",
   "metadata": {},
   "outputs": [],
   "source": [
    "####### Generate the graphs for Under % vs Win %\n",
    "\n",
    "# Calculate the linear regression data series\n",
    "x_data = result_df['Win %']\n",
    "y_data = result_df['Under %']\n",
    "\n",
    "# Calculate the linear regression coefficients\n",
    "slope, intercept = np.polyfit(x_data, y_data, 1)\n",
    "\n",
    "# Calculate the R-squared value\n",
    "predicted_y = slope * np.array(x_data) + intercept\n",
    "residuals = np.array(y_data) - predicted_y\n",
    "ss_residual = np.sum(residuals**2)\n",
    "ss_total = np.sum((y_data - np.mean(y_data))**2)\n",
    "r_squared = 1 - (ss_residual / ss_total)\n",
    "\n",
    "# Create a scatter plot\n",
    "fig = px.scatter(x=x_data, y=y_data, title=f'{team} Gambling Metrics: Under % vs Win %')\n",
    "\n",
    "# Create a trace for the regression line\n",
    "regression_line = go.Scatter(x=x_data, y=slope * np.array(x_data) + intercept, mode='lines', name='Linear Regression')\n",
    "\n",
    "# Add the trace to the scatter plot\n",
    "fig.add_trace(regression_line)\n",
    "\n",
    "# Annotate the plot with the R-squared value\n",
    "annotation = go.layout.Annotation(\n",
    "    text=f'R² = {r_squared:.3f}',\n",
    "    xref='paper', yref='paper',\n",
    "    x=0.05, y=0.95,\n",
    "    showarrow=False,\n",
    "    font=dict(size=12)\n",
    ")\n",
    "\n",
    "# Add the annotation to the layout\n",
    "fig.update_layout(annotations=[annotation])\n",
    "fig.update_xaxes(title='Win %')\n",
    "fig.update_yaxes(title='Under %')\n",
    "\n",
    "# Show the plot\n",
    "fig.show()"
   ]
  },
  {
   "cell_type": "code",
   "execution_count": null,
   "id": "51d26250",
   "metadata": {},
   "outputs": [],
   "source": []
  }
 ],
 "metadata": {
  "kernelspec": {
   "display_name": "Python 3 (ipykernel)",
   "language": "python",
   "name": "python3"
  },
  "language_info": {
   "codemirror_mode": {
    "name": "ipython",
    "version": 3
   },
   "file_extension": ".py",
   "mimetype": "text/x-python",
   "name": "python",
   "nbconvert_exporter": "python",
   "pygments_lexer": "ipython3",
   "version": "3.10.9"
  }
 },
 "nbformat": 4,
 "nbformat_minor": 5
}
